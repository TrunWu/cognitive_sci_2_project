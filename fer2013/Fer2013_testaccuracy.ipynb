{
 "cells": [
  {
   "cell_type": "code",
   "execution_count": 1,
   "metadata": {},
   "outputs": [
    {
     "name": "stderr",
     "output_type": "stream",
     "text": [
      "/usr/local/lib/python3.5/dist-packages/h5py/__init__.py:36: FutureWarning: Conversion of the second argument of issubdtype from `float` to `np.floating` is deprecated. In future, it will be treated as `np.float64 == np.dtype(float).type`.\n",
      "  from ._conv import register_converters as _register_converters\n",
      "Using TensorFlow backend.\n"
     ]
    }
   ],
   "source": [
    "import sys\n",
    "import cv2\n",
    "import pandas as pd\n",
    "from keras.models import load_model\n",
    "from keras.preprocessing import image\n",
    "import numpy as np\n",
    "from utils.datasets import get_labels\n",
    "from utils.inference import detect_faces\n",
    "from utils.inference import draw_text\n",
    "from utils.inference import draw_bounding_box\n",
    "from utils.inference import apply_offsets\n",
    "from utils.inference import load_detection_model\n",
    "from utils.inference import load_image\n",
    "from utils.preprocessor import preprocess_input\n",
    "import os"
   ]
  },
  {
   "cell_type": "code",
   "execution_count": 2,
   "metadata": {},
   "outputs": [],
   "source": [
    "import matplotlib.pyplot as plt"
   ]
  },
  {
   "cell_type": "code",
   "execution_count": 3,
   "metadata": {},
   "outputs": [],
   "source": [
    "# parameters for loading data and images\n",
    "image_path = 'fer2013.csv'\n",
    "detection_model_path = 'haarcascade_frontalface_default.xml'\n",
    "#emotion_model_path = 'fer2013_big_XCEPTION.54-0.66.hdf5'\n",
    "emotion_model_path = 'fer2013_mini_XCEPTION.56-0.65.hdf5'\n",
    "emotion_labels = get_labels('fer2013')\n",
    "font = cv2.FONT_HERSHEY_SIMPLEX\n",
    "\n",
    "# hyper-parameters for bounding boxes shape\n",
    "emotion_offsets = (20, 40)\n",
    "#emotion_offsets = (0, 0)"
   ]
  },
  {
   "cell_type": "code",
   "execution_count": 13,
   "metadata": {},
   "outputs": [],
   "source": [
    "data = pd.read_csv(image_path)"
   ]
  },
  {
   "cell_type": "code",
   "execution_count": 5,
   "metadata": {},
   "outputs": [],
   "source": [
    "labels = pd.get_dummies(data['emotion']).as_matrix()"
   ]
  },
  {
   "cell_type": "code",
   "execution_count": 7,
   "metadata": {},
   "outputs": [],
   "source": [
    "#new image path\n",
    "new_img_path = '../../data/TestImgs_48/'"
   ]
  },
  {
   "cell_type": "code",
   "execution_count": 5,
   "metadata": {},
   "outputs": [],
   "source": [
    "# loading models\n",
    "face_detection = load_detection_model(detection_model_path)\n",
    "emotion_classifier = load_model(emotion_model_path, compile=False)\n",
    "\n",
    "# getting input model shapes for inference\n",
    "emotion_target_size = emotion_classifier.input_shape[1:3]"
   ]
  },
  {
   "cell_type": "code",
   "execution_count": 8,
   "metadata": {},
   "outputs": [
    {
     "data": {
      "text/plain": [
       "(64, 64)"
      ]
     },
     "execution_count": 8,
     "metadata": {},
     "output_type": "execute_result"
    }
   ],
   "source": [
    "emotion_classifier.input_shape\n",
    "emotion_target_size"
   ]
  },
  {
   "cell_type": "code",
   "execution_count": 6,
   "metadata": {},
   "outputs": [],
   "source": [
    "data = pd.read_csv(image_path)\n"
   ]
  },
  {
   "cell_type": "code",
   "execution_count": 11,
   "metadata": {},
   "outputs": [],
   "source": [
    "data = data.loc[ data['Usage'] == 'PublicTest']\n",
    "#data = data.loc[data['Usage']=='PrivateTest']"
   ]
  },
  {
   "cell_type": "code",
   "execution_count": 16,
   "metadata": {},
   "outputs": [
    {
     "data": {
      "text/plain": [
       "3589"
      ]
     },
     "execution_count": 16,
     "metadata": {},
     "output_type": "execute_result"
    }
   ],
   "source": [
    "len(data.loc[data['Usage']=='PrivateTest'])"
   ]
  },
  {
   "cell_type": "code",
   "execution_count": 11,
   "metadata": {},
   "outputs": [],
   "source": [
    "pixels = data['pixels']"
   ]
  },
  {
   "cell_type": "code",
   "execution_count": 12,
   "metadata": {},
   "outputs": [],
   "source": [
    "face_test = np.array([int(pix) for pix in np.fromstring(pixels.iloc[0], np.uint8, sep=' ')])\n",
    "face_test = face_test.reshape(48,48)\n",
    "face_test = cv2.resize(face_test.astype('uint8'), emotion_target_size)"
   ]
  },
  {
   "cell_type": "code",
   "execution_count": 13,
   "metadata": {},
   "outputs": [],
   "source": [
    "faces = []\n",
    "for count in range(len(pixels)):\n",
    "    face = np.array([int(pix) for pix in np.fromstring(pixels.iloc[count], np.uint8, sep=' ')])\n",
    "    face = face.reshape((48,48))\n",
    "    face = cv2.resize(face.astype('uint8'), emotion_target_size)\n",
    "    faces.append(face.astype('float32'))\n",
    "faces = np.asarray(faces)\n",
    "emotions = data['emotion']"
   ]
  },
  {
   "cell_type": "code",
   "execution_count": 14,
   "metadata": {},
   "outputs": [],
   "source": [
    "face1 = np.squeeze(faces[20])\n",
    "face1 = preprocess_input(face1, True)\n",
    "face1 = np.expand_dims(face1, 0)\n",
    "face1 = np.expand_dims(face1, -1)"
   ]
  },
  {
   "cell_type": "code",
   "execution_count": 15,
   "metadata": {},
   "outputs": [
    {
     "data": {
      "text/plain": [
       "3"
      ]
     },
     "execution_count": 15,
     "metadata": {},
     "output_type": "execute_result"
    }
   ],
   "source": [
    "np.argmax(emotion_classifier.predict(face1))"
   ]
  },
  {
   "cell_type": "code",
   "execution_count": 16,
   "metadata": {},
   "outputs": [
    {
     "data": {
      "text/plain": [
       "5"
      ]
     },
     "execution_count": 16,
     "metadata": {},
     "output_type": "execute_result"
    }
   ],
   "source": [
    "emotions.iloc[1]"
   ]
  },
  {
   "cell_type": "code",
   "execution_count": 17,
   "metadata": {},
   "outputs": [],
   "source": [
    "pred_emotions =[]\n",
    "for gray_image in faces:\n",
    "    gray_image = np.squeeze(gray_image)\n",
    "    gray_image = preprocess_input(gray_image, True)\n",
    "    gray_image = np.expand_dims(gray_image, 0)\n",
    "    gray_image = np.expand_dims(gray_image, -1)\n",
    "    emotion_label_arg = np.argmax(emotion_classifier.predict(gray_image))\n",
    "    pred_emotions.append(emotion_label_arg)"
   ]
  },
  {
   "cell_type": "code",
   "execution_count": 18,
   "metadata": {},
   "outputs": [
    {
     "data": {
      "text/plain": [
       "True"
      ]
     },
     "execution_count": 18,
     "metadata": {},
     "output_type": "execute_result"
    }
   ],
   "source": [
    "len(emotions) == len(pred_emotions)"
   ]
  },
  {
   "cell_type": "code",
   "execution_count": 19,
   "metadata": {},
   "outputs": [],
   "source": [
    "acc = 0\n",
    "for index, pred in enumerate(pred_emotions):\n",
    "    if emotions.iloc[index] == pred:\n",
    "        acc  = acc + 1\n",
    "    else:\n",
    "        continue\n",
    "acc = acc/len(emotions)"
   ]
  },
  {
   "cell_type": "code",
   "execution_count": 20,
   "metadata": {},
   "outputs": [
    {
     "data": {
      "text/plain": [
       "3589"
      ]
     },
     "execution_count": 20,
     "metadata": {},
     "output_type": "execute_result"
    }
   ],
   "source": [
    "len(pred_emotions)"
   ]
  },
  {
   "cell_type": "code",
   "execution_count": 21,
   "metadata": {},
   "outputs": [],
   "source": [
    "#confusion matrix \n",
    "# x coordinate are predition emotion)\n",
    "# y coordiante is truth emotions\n",
    "confusion_matrix = np.zeros((7,7))"
   ]
  },
  {
   "cell_type": "code",
   "execution_count": 22,
   "metadata": {},
   "outputs": [],
   "source": [
    "for pred, truth in zip(pred_emotions, emotions):\n",
    "    confusion_matrix[truth, pred] += 1"
   ]
  },
  {
   "cell_type": "code",
   "execution_count": 23,
   "metadata": {},
   "outputs": [
    {
     "data": {
      "text/plain": [
       "array([[295.,   8.,  52.,  16.,  60.,   9.,  51.],\n",
       "       [ 14.,  30.,   6.,   0.,   2.,   1.,   2.],\n",
       "       [ 86.,   0., 230.,  17.,  96.,  55.,  44.],\n",
       "       [ 27.,   0.,  17., 764.,  22.,  15.,  34.],\n",
       "       [ 61.,   4.,  70.,  28., 321.,   5., 105.],\n",
       "       [ 14.,   0.,  50.,  18.,  12., 312.,  10.],\n",
       "       [ 35.,   2.,  52.,  32.,  96.,   6., 403.]])"
      ]
     },
     "execution_count": 23,
     "metadata": {},
     "output_type": "execute_result"
    }
   ],
   "source": [
    "confusion_matrix"
   ]
  },
  {
   "cell_type": "code",
   "execution_count": 24,
   "metadata": {},
   "outputs": [],
   "source": [
    "matrix = np.zeros_like(confusion_matrix)"
   ]
  },
  {
   "cell_type": "code",
   "execution_count": 25,
   "metadata": {},
   "outputs": [
    {
     "data": {
      "text/plain": [
       "array([491.,  55., 528., 879., 594., 416., 626.])"
      ]
     },
     "execution_count": 25,
     "metadata": {},
     "output_type": "execute_result"
    }
   ],
   "source": [
    "np.sum(confusion_matrix,axis=1)"
   ]
  },
  {
   "cell_type": "code",
   "execution_count": 26,
   "metadata": {},
   "outputs": [],
   "source": [
    "for index, i in enumerate(np.sum(confusion_matrix,axis=1)):\n",
    "    matrix[index,:] = confusion_matrix[index,:]/i"
   ]
  },
  {
   "cell_type": "code",
   "execution_count": 27,
   "metadata": {},
   "outputs": [
    {
     "data": {
      "text/plain": [
       "array([[0.60081466, 0.01629328, 0.10590631, 0.03258656, 0.12219959,\n",
       "        0.01832994, 0.10386965],\n",
       "       [0.25454545, 0.54545455, 0.10909091, 0.        , 0.03636364,\n",
       "        0.01818182, 0.03636364],\n",
       "       [0.16287879, 0.        , 0.43560606, 0.03219697, 0.18181818,\n",
       "        0.10416667, 0.08333333],\n",
       "       [0.03071672, 0.        , 0.01934016, 0.86916951, 0.02502844,\n",
       "        0.01706485, 0.03868032],\n",
       "       [0.1026936 , 0.00673401, 0.11784512, 0.04713805, 0.54040404,\n",
       "        0.00841751, 0.17676768],\n",
       "       [0.03365385, 0.        , 0.12019231, 0.04326923, 0.02884615,\n",
       "        0.75      , 0.02403846],\n",
       "       [0.05591054, 0.00319489, 0.08306709, 0.05111821, 0.15335463,\n",
       "        0.00958466, 0.64376997]])"
      ]
     },
     "execution_count": 27,
     "metadata": {},
     "output_type": "execute_result"
    }
   ],
   "source": [
    "matrix"
   ]
  },
  {
   "cell_type": "code",
   "execution_count": 114,
   "metadata": {},
   "outputs": [],
   "source": [
    "#private test accuracy is 65.62%\n",
    "#publictest accuaracy is 64.22%"
   ]
  },
  {
   "cell_type": "code",
   "execution_count": 64,
   "metadata": {},
   "outputs": [],
   "source": [
    "#author's public acc: 65.62%\n",
    "#author's private acc: 66.84%"
   ]
  },
  {
   "cell_type": "code",
   "execution_count": null,
   "metadata": {},
   "outputs": [],
   "source": []
  },
  {
   "cell_type": "code",
   "execution_count": 6,
   "metadata": {},
   "outputs": [],
   "source": [
    "#another dataset accuracy\n"
   ]
  },
  {
   "cell_type": "code",
   "execution_count": 8,
   "metadata": {},
   "outputs": [],
   "source": [
    "new_faces=[]\n",
    "\n",
    "for file in os.listdir(new_img_path):\n",
    "    new_faces.append(cv2.imread(new_img_path+file,0))"
   ]
  },
  {
   "cell_type": "code",
   "execution_count": 38,
   "metadata": {},
   "outputs": [
    {
     "data": {
      "text/plain": [
       "<matplotlib.image.AxesImage at 0x7fb4f4061320>"
      ]
     },
     "execution_count": 38,
     "metadata": {},
     "output_type": "execute_result"
    },
    {
     "data": {
      "image/png": "[encoded data removed]",
      "text/plain": [
       "<Figure size 432x288 with 1 Axes>"
      ]
     },
     "metadata": {},
     "output_type": "display_data"
    }
   ],
   "source": [
    "plt.imshow(new_faces[66][10:40,10:40])"
   ]
  },
  {
   "cell_type": "code",
   "execution_count": 10,
   "metadata": {},
   "outputs": [
    {
     "data": {
      "text/plain": [
       "256"
      ]
     },
     "execution_count": 10,
     "metadata": {},
     "output_type": "execute_result"
    }
   ],
   "source": [
    "len(new_faces)"
   ]
  },
  {
   "cell_type": "code",
   "execution_count": 21,
   "metadata": {},
   "outputs": [],
   "source": [
    "new_pred_emotions=[]\n",
    "for gray_image in new_faces:\n",
    "    #gray_image = gray_image.reshape((48,48))[10:40,10:40]\n",
    "    gray_image = cv2.resize(gray_image.astype('uint8')[10:40,10:40], emotion_target_size)\n",
    "    gray_image.astype('float32')\n",
    "    gray_image = np.squeeze(gray_image)\n",
    "    gray_image = preprocess_input(gray_image, True)\n",
    "    gray_image = np.expand_dims(gray_image, 0)\n",
    "    gray_image = np.expand_dims(gray_image, -1)\n",
    "    emotion_label_arg = np.argmax(emotion_classifier.predict(gray_image))\n",
    "    new_pred_emotions.append(emotion_label_arg)"
   ]
  },
  {
   "cell_type": "code",
   "execution_count": 22,
   "metadata": {},
   "outputs": [],
   "source": [
    "#new_pred_emotions"
   ]
  },
  {
   "cell_type": "code",
   "execution_count": 23,
   "metadata": {},
   "outputs": [],
   "source": [
    "new_dataset_labels=pd.read_csv('../../data/label.csv',delimiter=',',header=None)"
   ]
  },
  {
   "cell_type": "code",
   "execution_count": 24,
   "metadata": {},
   "outputs": [],
   "source": [
    "new_dataset_labels = new_dataset_labels.as_matrix()"
   ]
  },
  {
   "cell_type": "code",
   "execution_count": 25,
   "metadata": {},
   "outputs": [],
   "source": [
    "new_dataset_labels = np.squeeze(new_dataset_labels)"
   ]
  },
  {
   "cell_type": "code",
   "execution_count": 26,
   "metadata": {},
   "outputs": [
    {
     "data": {
      "text/plain": [
       "array(['Angry', 'Surprise', 'Happy', 'Sad', 'Angry', 'Neutral', 'Sad',\n",
       "       'Angry', 'Happy', 'Surprise', 'Happy', 'Angry', 'Sad', 'Sad',\n",
       "       'Sad', 'Happy', 'Surprise', 'Fear', 'Fear', 'Sad'], dtype=object)"
      ]
     },
     "execution_count": 26,
     "metadata": {},
     "output_type": "execute_result"
    }
   ],
   "source": [
    "new_dataset_labels[:20]"
   ]
  },
  {
   "cell_type": "code",
   "execution_count": 27,
   "metadata": {},
   "outputs": [],
   "source": [
    "temp_true_labels=[]\n",
    "for x in new_dataset_labels:\n",
    "    if x =='Angry':\n",
    "        temp_true_labels.append(0)\n",
    "    elif x == 'Disgust':\n",
    "        temp_true_labels.append(1)\n",
    "    elif x == 'Fear':\n",
    "        temp_true_labels.append(2)\n",
    "    elif x == 'Happy':\n",
    "        temp_true_labels.append(3)\n",
    "    elif x == 'Sad':\n",
    "        temp_true_labels.append(4)\n",
    "    elif x =='Surprise':\n",
    "        temp_true_labels.append(5)\n",
    "    else:\n",
    "        temp_true_labels.append(6)"
   ]
  },
  {
   "cell_type": "code",
   "execution_count": 28,
   "metadata": {},
   "outputs": [
    {
     "data": {
      "image/png": "[encoded data removed]",
      "text/plain": [
       "<Figure size 432x288 with 1 Axes>"
      ]
     },
     "metadata": {},
     "output_type": "display_data"
    }
   ],
   "source": [
    "#temp_true_labels\n",
    "plt.hist(np.array(temp_true_labels))\n",
    "plt.show()"
   ]
  },
  {
   "cell_type": "code",
   "execution_count": 29,
   "metadata": {},
   "outputs": [],
   "source": [
    "new_acc = 0\n",
    "for index, i in enumerate(new_pred_emotions):\n",
    "    if i == temp_true_labels[index]:\n",
    "        new_acc = new_acc +1\n",
    "    else:\n",
    "        continue\n"
   ]
  },
  {
   "cell_type": "code",
   "execution_count": 30,
   "metadata": {},
   "outputs": [],
   "source": [
    "new_acc /= len(new_faces)"
   ]
  },
  {
   "cell_type": "code",
   "execution_count": 31,
   "metadata": {},
   "outputs": [
    {
     "name": "stdout",
     "output_type": "stream",
     "text": [
      "0.15234375\n"
     ]
    }
   ],
   "source": [
    "print(new_acc) "
   ]
  },
  {
   "cell_type": "code",
   "execution_count": 36,
   "metadata": {},
   "outputs": [],
   "source": [
    "# authors model to run the test and the acc is 22.95%\n",
    "# after change the rest emotions into 'neutral' the accuracy is 22.22%"
   ]
  },
  {
   "cell_type": "code",
   "execution_count": 33,
   "metadata": {},
   "outputs": [
    {
     "data": {
      "text/plain": [
       "[4, 6, 3, 3, 6, 0, 4, 2, 6, 4]"
      ]
     },
     "execution_count": 33,
     "metadata": {},
     "output_type": "execute_result"
    }
   ],
   "source": [
    "new_pred_emotions[:10]"
   ]
  },
  {
   "cell_type": "code",
   "execution_count": 34,
   "metadata": {},
   "outputs": [
    {
     "data": {
      "text/plain": [
       "[0, 5, 3, 4, 0, 6, 4, 0, 3, 5]"
      ]
     },
     "execution_count": 34,
     "metadata": {},
     "output_type": "execute_result"
    }
   ],
   "source": [
    "temp_true_labels[:10]"
   ]
  },
  {
   "cell_type": "code",
   "execution_count": null,
   "metadata": {},
   "outputs": [],
   "source": []
  }
 ],
 "metadata": {
  "kernelspec": {
   "display_name": "Python 3",
   "language": "python",
   "name": "python3"
  },
  "language_info": {
   "codemirror_mode": {
    "name": "ipython",
    "version": 3
   },
   "file_extension": ".py",
   "mimetype": "text/x-python",
   "name": "python",
   "nbconvert_exporter": "python",
   "pygments_lexer": "ipython3",
   "version": "3.5.2"
  }
 },
 "nbformat": 4,
 "nbformat_minor": 2
}
