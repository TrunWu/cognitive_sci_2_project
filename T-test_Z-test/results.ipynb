{
 "cells": [
  {
   "cell_type": "code",
   "execution_count": 1,
   "metadata": {},
   "outputs": [
    {
     "name": "stderr",
     "output_type": "stream",
     "text": [
      "C:\\Users\\veru\\Anaconda3\\lib\\site-packages\\statsmodels\\compat\\pandas.py:56: FutureWarning: The pandas.core.datetools module is deprecated and will be removed in a future version. Please use the pandas.tseries module instead.\n",
      "  from pandas.core import datetools\n"
     ]
    }
   ],
   "source": [
    "import numpy as np\n",
    "import math\n",
    "import scipy.stats as stats\n",
    "import statsmodels.api as sm"
   ]
  },
  {
   "cell_type": "code",
   "execution_count": 2,
   "metadata": {},
   "outputs": [],
   "source": [
    "# what is the difference between private and public?\n",
    "paper = 66\n",
    "authors_model = [66.84, 65.62]\n",
    "our_model = [65.62, 64.22]"
   ]
  },
  {
   "cell_type": "code",
   "execution_count": 3,
   "metadata": {},
   "outputs": [],
   "source": [
    "# test accuracies\n",
    "emotic_authors_6classes = 22.95\n",
    "emotic_authors_otherAsNeutral = 22.22\n",
    "emotic_our_otherAsNeutral = 1.6 \n",
    "emotic_our_6classes = 46.42 "
   ]
  },
  {
   "cell_type": "code",
   "execution_count": 4,
   "metadata": {},
   "outputs": [
    {
     "data": {
      "text/plain": [
       "Ttest_indResult(statistic=1.4108877837176925, pvalue=0.29372613167171924)"
      ]
     },
     "execution_count": 4,
     "metadata": {},
     "output_type": "execute_result"
    }
   ],
   "source": [
    "#difference for Fer2013, pre-trained vs. newly trained\n",
    "stats.ttest_ind(authors_model, our_model)"
   ]
  },
  {
   "cell_type": "code",
   "execution_count": 5,
   "metadata": {},
   "outputs": [
    {
     "data": {
      "text/plain": [
       "Ttest_indResult(statistic=-0.06357925152530512, pvalue=0.9550880443310736)"
      ]
     },
     "execution_count": 5,
     "metadata": {},
     "output_type": "execute_result"
    }
   ],
   "source": [
    "# differences between our and authors model for emotic dataset\n",
    "stats.ttest_ind([emotic_authors_6classes, emotic_authors_otherAsNeutral], [emotic_our_6classes, emotic_our_otherAsNeutral])"
   ]
  },
  {
   "cell_type": "code",
   "execution_count": 6,
   "metadata": {},
   "outputs": [
    {
     "data": {
      "text/plain": [
       "Ttest_indResult(statistic=1.4580010731108004, pvalue=0.28219663834400105)"
      ]
     },
     "execution_count": 6,
     "metadata": {},
     "output_type": "execute_result"
    }
   ],
   "source": [
    "# differences between excluding all expressions not in fer2013 and labelling them as neutral for the emotic dataset\n",
    "stats.ttest_ind([emotic_authors_6classes, emotic_our_6classes], [emotic_authors_otherAsNeutral, emotic_our_otherAsNeutral])"
   ]
  },
  {
   "cell_type": "code",
   "execution_count": 7,
   "metadata": {},
   "outputs": [
    {
     "data": {
      "text/plain": [
       "Ttest_indResult(statistic=1.8246343967008354, pvalue=0.20961051662593108)"
      ]
     },
     "execution_count": 7,
     "metadata": {},
     "output_type": "execute_result"
    }
   ],
   "source": [
    "stats.ttest_ind(our_model, [emotic_our_6classes, emotic_our_otherAsNeutral])"
   ]
  },
  {
   "cell_type": "code",
   "execution_count": 8,
   "metadata": {},
   "outputs": [
    {
     "data": {
      "text/plain": [
       "Ttest_indResult(statistic=61.397276307830545, pvalue=0.0002651728263881945)"
      ]
     },
     "execution_count": 8,
     "metadata": {},
     "output_type": "execute_result"
    }
   ],
   "source": [
    "stats.ttest_ind(authors_model, [emotic_authors_6classes, emotic_authors_otherAsNeutral])"
   ]
  },
  {
   "cell_type": "code",
   "execution_count": 9,
   "metadata": {},
   "outputs": [],
   "source": [
    "# actually z-test might be better in our case\n",
    "# https://onlinecourses.science.psu.edu/stat414/node/268/\n",
    "# number of samples for each group necessary"
   ]
  },
  {
   "cell_type": "code",
   "execution_count": 10,
   "metadata": {},
   "outputs": [],
   "source": [
    "n_ck = 327\n",
    "p_ck = 41.20\n",
    "n_emotic_6classes = 196\n",
    "n_emotic_otherAsNeutral = 256\n",
    "n_fer_p = 3589"
   ]
  },
  {
   "cell_type": "code",
   "execution_count": 11,
   "metadata": {},
   "outputs": [],
   "source": [
    "ck_all = n_ck*p_ck\n",
    "emotic_our_6classes_all = n_emotic_6classes*emotic_our_6classes\n",
    "emotic_our_otherAsNeutral_all = n_emotic_otherAsNeutral*emotic_our_otherAsNeutral"
   ]
  },
  {
   "cell_type": "code",
   "execution_count": 12,
   "metadata": {},
   "outputs": [
    {
     "data": {
      "text/plain": [
       "(1.336937972860311, 0.18124288446415526)"
      ]
     },
     "execution_count": 12,
     "metadata": {},
     "output_type": "execute_result"
    }
   ],
   "source": [
    "#ck+ vs. emotic 6classes\n",
    "sm.stats.proportions_ztest([n_ck, n_emotic_6classes], [ck_all, emotic_our_6classes_all])"
   ]
  },
  {
   "cell_type": "code",
   "execution_count": 13,
   "metadata": {},
   "outputs": [
    {
     "data": {
      "text/plain": [
       "(-59.712148145135856, 0.0)"
      ]
     },
     "execution_count": 13,
     "metadata": {},
     "output_type": "execute_result"
    }
   ],
   "source": [
    "#ck+ vs. emotic with neutral\n",
    "sm.stats.proportions_ztest([n_ck, n_emotic_otherAsNeutral], [ck_all, emotic_our_otherAsNeutral_all])"
   ]
  },
  {
   "cell_type": "code",
   "execution_count": 14,
   "metadata": {},
   "outputs": [],
   "source": [
    "emotic_authors_6classes_all = n_emotic_6classes*emotic_authors_6classes\n",
    "emotic_authors_otherAsNeutral_all = n_emotic_otherAsNeutral*emotic_authors_otherAsNeutral"
   ]
  },
  {
   "cell_type": "code",
   "execution_count": 15,
   "metadata": {},
   "outputs": [
    {
     "data": {
      "text/plain": [
       "(-6.667874607196995, 2.5953437157122768e-11)"
      ]
     },
     "execution_count": 15,
     "metadata": {},
     "output_type": "execute_result"
    }
   ],
   "source": [
    "#ck+ vs. emotic 6classes authors model\n",
    "sm.stats.proportions_ztest([n_ck, n_emotic_6classes], [ck_all, emotic_authors_6classes_all])"
   ]
  },
  {
   "cell_type": "code",
   "execution_count": 16,
   "metadata": {},
   "outputs": [
    {
     "data": {
      "text/plain": [
       "(-7.633871761480472, 2.2780652017189236e-14)"
      ]
     },
     "execution_count": 16,
     "metadata": {},
     "output_type": "execute_result"
    }
   ],
   "source": [
    "#ck+ vs. emotic with neutral authors model\n",
    "sm.stats.proportions_ztest([n_ck, n_emotic_otherAsNeutral], [ck_all, emotic_authors_otherAsNeutral_all])"
   ]
  },
  {
   "cell_type": "code",
   "execution_count": null,
   "metadata": {},
   "outputs": [],
   "source": []
  }
 ],
 "metadata": {
  "kernelspec": {
   "display_name": "Python 3",
   "language": "python",
   "name": "python3"
  },
  "language_info": {
   "codemirror_mode": {
    "name": "ipython",
    "version": 3
   },
   "file_extension": ".py",
   "mimetype": "text/x-python",
   "name": "python",
   "nbconvert_exporter": "python",
   "pygments_lexer": "ipython3",
   "version": "3.6.4"
  }
 },
 "nbformat": 4,
 "nbformat_minor": 2
}
