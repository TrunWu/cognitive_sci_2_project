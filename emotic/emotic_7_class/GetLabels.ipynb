{
 "cells": [
  {
   "cell_type": "code",
   "execution_count": 1,
   "metadata": {},
   "outputs": [],
   "source": [
    "import scipy.io\n",
    "import numpy as np\n",
    "import pandas as pd\n",
    "import os\n",
    "import itertools\n",
    "import shutil\n",
    "import csv"
   ]
  },
  {
   "cell_type": "code",
   "execution_count": 2,
   "metadata": {},
   "outputs": [],
   "source": [
    "ann = scipy.io.loadmat('../../data/Annotations.mat')"
   ]
  },
  {
   "cell_type": "code",
   "execution_count": 3,
   "metadata": {},
   "outputs": [
    {
     "data": {
      "text/plain": [
       "dict_keys(['val', '__header__', '__version__', 'test', 'train', '__globals__'])"
      ]
     },
     "execution_count": 3,
     "metadata": {},
     "output_type": "execute_result"
    }
   ],
   "source": [
    "ann.keys()"
   ]
  },
  {
   "cell_type": "code",
   "execution_count": 4,
   "metadata": {},
   "outputs": [],
   "source": [
    "annt = np.transpose(ann['test'])"
   ]
  },
  {
   "cell_type": "code",
   "execution_count": 5,
   "metadata": {},
   "outputs": [
    {
     "data": {
      "text/plain": [
       "(17077, 1)"
      ]
     },
     "execution_count": 5,
     "metadata": {},
     "output_type": "execute_result"
    }
   ],
   "source": [
    "ann_train = np.transpose(ann['train'])\n",
    "ann_train.shape"
   ]
  },
  {
   "cell_type": "code",
   "execution_count": 6,
   "metadata": {},
   "outputs": [
    {
     "data": {
      "text/plain": [
       "(2088, 1)"
      ]
     },
     "execution_count": 6,
     "metadata": {},
     "output_type": "execute_result"
    }
   ],
   "source": [
    "ann_val = np.transpose(ann['val'])\n",
    "ann_val.shape"
   ]
  },
  {
   "cell_type": "code",
   "execution_count": 7,
   "metadata": {},
   "outputs": [],
   "source": [
    "emodb_small = []\n",
    "for elem in annt:\n",
    "    e = elem[0]\n",
    "    if e[1]=='emodb_small/images':\n",
    "        emodb_small.append(e)"
   ]
  },
  {
   "cell_type": "code",
   "execution_count": 8,
   "metadata": {},
   "outputs": [
    {
     "data": {
      "text/plain": [
       "399"
      ]
     },
     "execution_count": 8,
     "metadata": {},
     "output_type": "execute_result"
    }
   ],
   "source": [
    "len(emodb_small)"
   ]
  },
  {
   "cell_type": "code",
   "execution_count": 9,
   "metadata": {},
   "outputs": [
    {
     "data": {
      "text/plain": [
       "1211"
      ]
     },
     "execution_count": 9,
     "metadata": {},
     "output_type": "execute_result"
    }
   ],
   "source": [
    "for elem in ann_train:\n",
    "    e = elem[0]\n",
    "    if e[1]=='emodb_small/images':\n",
    "        emodb_small.append(e)\n",
    "        \n",
    "len(emodb_small)"
   ]
  },
  {
   "cell_type": "code",
   "execution_count": 10,
   "metadata": {},
   "outputs": [
    {
     "data": {
      "text/plain": [
       "1374"
      ]
     },
     "execution_count": 10,
     "metadata": {},
     "output_type": "execute_result"
    }
   ],
   "source": [
    "for elem in ann_val:\n",
    "    e = elem[0]\n",
    "    if e[1]=='emodb_small/images':\n",
    "        emodb_small.append(e)\n",
    "        \n",
    "len(emodb_small)"
   ]
  },
  {
   "cell_type": "code",
   "execution_count": 13,
   "metadata": {},
   "outputs": [
    {
     "data": {
      "text/plain": [
       "256"
      ]
     },
     "execution_count": 13,
     "metadata": {},
     "output_type": "execute_result"
    }
   ],
   "source": [
    "names = os.listdir('../../data/TestImgs_48/')\n",
    "len(names)"
   ]
  },
  {
   "cell_type": "code",
   "execution_count": 14,
   "metadata": {},
   "outputs": [],
   "source": [
    "imgs48 = []\n",
    "for elem in emodb_small:\n",
    "    if elem[0][0] in names:\n",
    "        imgs48.append(elem)"
   ]
  },
  {
   "cell_type": "code",
   "execution_count": 15,
   "metadata": {},
   "outputs": [
    {
     "data": {
      "text/plain": [
       "256"
      ]
     },
     "execution_count": 15,
     "metadata": {},
     "output_type": "execute_result"
    }
   ],
   "source": [
    "len(imgs48)"
   ]
  },
  {
   "cell_type": "code",
   "execution_count": 16,
   "metadata": {},
   "outputs": [
    {
     "name": "stdout",
     "output_type": "stream",
     "text": [
      "[[ 66.  17. 319. 239.]]\n",
      "---------------------------------------------\n",
      "[[(array([[array(['Anticipation'], dtype='<U12'),\n",
      "        array(['Confidence'], dtype='<U10'),\n",
      "        array(['Engagement'], dtype='<U10'),\n",
      "        array(['Disapproval'], dtype='<U11'),\n",
      "        array(['Doubt/Confusion'], dtype='<U15')]], dtype=object),)\n",
      "  (array([[array(['Surprise'], dtype='<U8'),\n",
      "        array(['Annoyance'], dtype='<U9')]], dtype=object),)\n",
      "  (array([[array(['Anticipation'], dtype='<U12'),\n",
      "        array(['Excitement'], dtype='<U10'),\n",
      "        array(['Confidence'], dtype='<U10'),\n",
      "        array(['Annoyance'], dtype='<U9')]], dtype=object),)]]\n",
      "---------------------------------------------\n",
      "[[array(['Annoyance'], dtype='<U9') array(['Anticipation'], dtype='<U12')\n",
      "  array(['Confidence'], dtype='<U10')\n",
      "  array(['Disapproval'], dtype='<U11')\n",
      "  array(['Doubt/Confusion'], dtype='<U15')\n",
      "  array(['Engagement'], dtype='<U10') array(['Excitement'], dtype='<U10')\n",
      "  array(['Surprise'], dtype='<U8')]]\n",
      "---------------------------------------------\n",
      "[[(array([[4]], dtype=uint8), array([[4]], dtype=uint8), array([[5]], dtype=uint8))\n",
      "  (array([[4]], dtype=uint8), array([[4]], dtype=uint8), array([[7]], dtype=uint8))\n",
      "  (array([[6]], dtype=uint8), array([[4]], dtype=uint8), array([[8]], dtype=uint8))]]\n",
      "---------------------------------------------\n",
      "[[(array([[5]], dtype=uint8), array([[4]], dtype=uint8), array([[7]], dtype=uint8))]]\n",
      "---------------------------------------------\n",
      "['Female']\n",
      "---------------------------------------------\n",
      "['Adult']\n",
      "---------------------------------------------\n"
     ]
    }
   ],
   "source": [
    "for i in imgs48[1][4][0][0]:\n",
    "    print(i)\n",
    "    print(\"---------------------------------------------\")"
   ]
  },
  {
   "cell_type": "code",
   "execution_count": 17,
   "metadata": {},
   "outputs": [],
   "source": [
    "emotions = []\n",
    "for elem in imgs48:\n",
    "    #print(elem[0][0])\n",
    "    e = elem[4].tolist()\n",
    "    e1 = e[0]\n",
    "    for item in e1:\n",
    "        li = item[1].tolist()\n",
    "        l2 = li[0]\n",
    "        emotions_item = []\n",
    "        for thing in l2:\n",
    "            for t in thing:\n",
    "                t1 = t.tolist()\n",
    "                t2 = t1[0]\n",
    "                arr = np.vstack(t2).tolist()\n",
    "                arr2 = list(itertools.chain.from_iterable(arr))\n",
    "                emotions_item.append(arr2)\n",
    "    labels = list(itertools.chain.from_iterable(emotions_item))\n",
    "    emotions.append([elem[0], labels])\n",
    "\n",
    "emotions = np.array(emotions)\n",
    "#print(emotions)"
   ]
  },
  {
   "cell_type": "code",
   "execution_count": 18,
   "metadata": {},
   "outputs": [
    {
     "name": "stdout",
     "output_type": "stream",
     "text": [
      "['csnkvsyn0xwl7kjgw4.jpg']\n",
      "----------------------------------\n",
      "['Disapproval', 'Doubt/Confusion', 'Annoyance', 'Disconnection', 'Disquietment', 'Annoyance', 'Annoyance', 'Disapproval']\n",
      "----------------------------------\n"
     ]
    }
   ],
   "source": [
    "for i in emotions[5]:\n",
    "    print(i)\n",
    "    print('----------------------------------')"
   ]
  },
  {
   "cell_type": "code",
   "execution_count": 19,
   "metadata": {},
   "outputs": [
    {
     "name": "stdout",
     "output_type": "stream",
     "text": [
      "['Anger', 'Aversion', 'Annoyance', 'Disapproval', 'Confidence', 'Engagement']\n"
     ]
    }
   ],
   "source": [
    "#print(len(emotions)) #256\n",
    "print(emotions[0][1])"
   ]
  },
  {
   "cell_type": "code",
   "execution_count": 20,
   "metadata": {},
   "outputs": [],
   "source": [
    "unique_emo = []\n",
    "for temp in emotions:\n",
    "    if len(unique_emo)!=0:\n",
    "        for emotion in temp[1]:\n",
    "            if emotion in unique_emo:\n",
    "                continue\n",
    "            else:\n",
    "                unique_emo.append(emotion)\n",
    "    else:\n",
    "        unique_emo.append(emotion for emotion in temp[1])"
   ]
  },
  {
   "cell_type": "code",
   "execution_count": 21,
   "metadata": {},
   "outputs": [
    {
     "data": {
      "text/plain": [
       "[<generator object <genexpr> at 0x7fd8d2bc0678>,\n",
       " 'Anticipation',\n",
       " 'Confidence',\n",
       " 'Engagement',\n",
       " 'Disapproval',\n",
       " 'Doubt/Confusion',\n",
       " 'Surprise',\n",
       " 'Annoyance',\n",
       " 'Excitement',\n",
       " 'Pleasure',\n",
       " 'Happiness',\n",
       " 'Affection',\n",
       " 'Sympathy',\n",
       " 'Suffering',\n",
       " 'Sadness',\n",
       " 'Sensitivity',\n",
       " 'Pain',\n",
       " 'Fear',\n",
       " 'Aversion',\n",
       " 'Anger',\n",
       " 'Disconnection',\n",
       " 'Disquietment',\n",
       " 'Peace',\n",
       " 'Esteem',\n",
       " 'Fatigue',\n",
       " 'Yearning',\n",
       " 'Embarrassment']"
      ]
     },
     "execution_count": 21,
     "metadata": {},
     "output_type": "execute_result"
    }
   ],
   "source": [
    "unique_emo"
   ]
  },
  {
   "cell_type": "code",
   "execution_count": 22,
   "metadata": {},
   "outputs": [],
   "source": [
    "#7 classes for trained classifier:\n",
    "train_classes = ['Angry', 'Disgust', 'Fear', 'Happy', 'Sad', 'Surprise', 'Neutral'] \n",
    "converted_classes = ['Anger', 'Aversion', 'Fear', 'Happiness','Sadness','Surprise']\n",
    "def convert(emotion):\n",
    "    for index,label in enumerate(converted_classes):\n",
    "        if emotion == label:\n",
    "            return train_classes[index]\n",
    "        "
   ]
  },
  {
   "cell_type": "code",
   "execution_count": 23,
   "metadata": {},
   "outputs": [
    {
     "data": {
      "text/plain": [
       "['Anger', 'Aversion', 'Annoyance', 'Disapproval', 'Confidence', 'Engagement']"
      ]
     },
     "execution_count": 23,
     "metadata": {},
     "output_type": "execute_result"
    }
   ],
   "source": [
    "emotions[0][1]"
   ]
  },
  {
   "cell_type": "code",
   "execution_count": 24,
   "metadata": {},
   "outputs": [],
   "source": [
    "update_emotions = []\n",
    "update_imgs = []\n",
    "for emo in emotions:\n",
    "    for index, emotion in enumerate(emo[1]):         \n",
    "        if emotion in converted_classes:\n",
    "            update_emotions.append(convert(emotion))\n",
    "            update_imgs.append(emo[0][0])\n",
    "            break\n",
    "        else:\n",
    "            if index == (len(emo[1])-1):\n",
    "                update_emotions.append('Neutral')\n",
    "                update_imgs.append(emo[0][0])\n",
    "            else:\n",
    "                continue\n",
    "    \n",
    "    "
   ]
  },
  {
   "cell_type": "code",
   "execution_count": 26,
   "metadata": {},
   "outputs": [
    {
     "data": {
      "text/plain": [
       "256"
      ]
     },
     "execution_count": 26,
     "metadata": {},
     "output_type": "execute_result"
    }
   ],
   "source": [
    "len(update_imgs)"
   ]
  },
  {
   "cell_type": "code",
   "execution_count": 27,
   "metadata": {},
   "outputs": [
    {
     "data": {
      "text/plain": [
       "\"\\ndst = '../../data/imgs/'\\nsrc = '../../data/TestImgs_48/'\\nfiles = os.listdir(src)\\nfor f in files:\\n    if f in update_imgs:\\n        shutil.move(src+f, dst+f)\\n    else:\\n        continue\\n\""
      ]
     },
     "execution_count": 27,
     "metadata": {},
     "output_type": "execute_result"
    }
   ],
   "source": [
    "'''\n",
    "dst = '../../data/imgs/'\n",
    "src = '../../data/TestImgs_48/'\n",
    "files = os.listdir(src)\n",
    "for f in files:\n",
    "    if f in update_imgs:\n",
    "        shutil.move(src+f, dst+f)\n",
    "    else:\n",
    "        continue\n",
    "'''"
   ]
  },
  {
   "cell_type": "code",
   "execution_count": 28,
   "metadata": {},
   "outputs": [],
   "source": [
    "with open('../../data/label.csv','w') as searized_label:\n",
    "    wr = csv.writer(searized_label,dialect='excel')\n",
    "    wr.writerow(update_emotions)"
   ]
  },
  {
   "cell_type": "code",
   "execution_count": 29,
   "metadata": {},
   "outputs": [
    {
     "data": {
      "text/html": [
       "<div>\n",
       "<style scoped>\n",
       "    .dataframe tbody tr th:only-of-type {\n",
       "        vertical-align: middle;\n",
       "    }\n",
       "\n",
       "    .dataframe tbody tr th {\n",
       "        vertical-align: top;\n",
       "    }\n",
       "\n",
       "    .dataframe thead th {\n",
       "        text-align: right;\n",
       "    }\n",
       "</style>\n",
       "<table border=\"1\" class=\"dataframe\">\n",
       "  <thead>\n",
       "    <tr style=\"text-align: right;\">\n",
       "      <th></th>\n",
       "      <th>0</th>\n",
       "      <th>1</th>\n",
       "      <th>2</th>\n",
       "      <th>3</th>\n",
       "      <th>4</th>\n",
       "      <th>5</th>\n",
       "      <th>6</th>\n",
       "      <th>7</th>\n",
       "      <th>8</th>\n",
       "      <th>9</th>\n",
       "      <th>...</th>\n",
       "      <th>246</th>\n",
       "      <th>247</th>\n",
       "      <th>248</th>\n",
       "      <th>249</th>\n",
       "      <th>250</th>\n",
       "      <th>251</th>\n",
       "      <th>252</th>\n",
       "      <th>253</th>\n",
       "      <th>254</th>\n",
       "      <th>255</th>\n",
       "    </tr>\n",
       "  </thead>\n",
       "  <tbody>\n",
       "    <tr>\n",
       "      <th>0</th>\n",
       "      <td>Angry</td>\n",
       "      <td>Surprise</td>\n",
       "      <td>Happy</td>\n",
       "      <td>Sad</td>\n",
       "      <td>Angry</td>\n",
       "      <td>Neutral</td>\n",
       "      <td>Sad</td>\n",
       "      <td>Angry</td>\n",
       "      <td>Happy</td>\n",
       "      <td>Surprise</td>\n",
       "      <td>...</td>\n",
       "      <td>Angry</td>\n",
       "      <td>Happy</td>\n",
       "      <td>Angry</td>\n",
       "      <td>Surprise</td>\n",
       "      <td>Angry</td>\n",
       "      <td>Happy</td>\n",
       "      <td>Happy</td>\n",
       "      <td>Sad</td>\n",
       "      <td>Angry</td>\n",
       "      <td>Sad</td>\n",
       "    </tr>\n",
       "  </tbody>\n",
       "</table>\n",
       "<p>1 rows × 256 columns</p>\n",
       "</div>"
      ],
      "text/plain": [
       "     0         1      2    3      4        5    6      7      8         9    \\\n",
       "0  Angry  Surprise  Happy  Sad  Angry  Neutral  Sad  Angry  Happy  Surprise   \n",
       "\n",
       "  ...     246    247    248       249    250    251    252  253    254  255  \n",
       "0 ...   Angry  Happy  Angry  Surprise  Angry  Happy  Happy  Sad  Angry  Sad  \n",
       "\n",
       "[1 rows x 256 columns]"
      ]
     },
     "execution_count": 29,
     "metadata": {},
     "output_type": "execute_result"
    }
   ],
   "source": [
    "pd_labels = pd.read_csv('../../data/label.csv',delimiter=',',header=None)\n",
    "pd_labels"
   ]
  },
  {
   "cell_type": "code",
   "execution_count": null,
   "metadata": {},
   "outputs": [],
   "source": []
  }
 ],
 "metadata": {
  "kernelspec": {
   "display_name": "Python 3",
   "language": "python",
   "name": "python3"
  },
  "language_info": {
   "codemirror_mode": {
    "name": "ipython",
    "version": 3
   },
   "file_extension": ".py",
   "mimetype": "text/x-python",
   "name": "python",
   "nbconvert_exporter": "python",
   "pygments_lexer": "ipython3",
   "version": "3.5.2"
  }
 },
 "nbformat": 4,
 "nbformat_minor": 2
}
