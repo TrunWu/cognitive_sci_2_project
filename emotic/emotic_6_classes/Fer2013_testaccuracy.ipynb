{
 "cells": [
  {
   "cell_type": "code",
   "execution_count": 1,
   "metadata": {},
   "outputs": [
    {
     "name": "stderr",
     "output_type": "stream",
     "text": [
      "/usr/local/lib/python3.5/dist-packages/h5py/__init__.py:36: FutureWarning: Conversion of the second argument of issubdtype from `float` to `np.floating` is deprecated. In future, it will be treated as `np.float64 == np.dtype(float).type`.\n",
      "  from ._conv import register_converters as _register_converters\n",
      "Using TensorFlow backend.\n"
     ]
    }
   ],
   "source": [
    "import sys\n",
    "import cv2\n",
    "import pandas as pd\n",
    "from keras.models import load_model\n",
    "from keras.preprocessing import image\n",
    "import numpy as np\n",
    "from utils.datasets import get_labels\n",
    "from utils.inference import detect_faces\n",
    "from utils.inference import draw_text\n",
    "from utils.inference import draw_bounding_box\n",
    "from utils.inference import apply_offsets\n",
    "from utils.inference import load_detection_model\n",
    "from utils.inference import load_image\n",
    "from utils.preprocessor import preprocess_input\n",
    "import os"
   ]
  },
  {
   "cell_type": "code",
   "execution_count": 2,
   "metadata": {},
   "outputs": [],
   "source": [
    "import matplotlib.pyplot as plt"
   ]
  },
  {
   "cell_type": "code",
   "execution_count": 3,
   "metadata": {},
   "outputs": [],
   "source": [
    "# parameters for loading data and images\n",
    "image_path = '../../data/emoticImgs_six_classes/'\n",
    "detection_model_path = '../../code/fer2013_file/haarcascade_frontalface_default.xml'\n",
    "#emotion_model_path = 'fer2013_big_XCEPTION.54-0.66.hdf5'\n",
    "emotion_model_path = 'Verena_mini_XCEPTION.09-0.38.hdf5'\n",
    "#emotion_labels = get_labels('fer2013')\n",
    "font = cv2.FONT_HERSHEY_SIMPLEX\n",
    "\n",
    "# hyper-parameters for bounding boxes shape\n",
    "emotion_offsets = (20, 40)\n",
    "#emotion_offsets = (0, 0)"
   ]
  },
  {
   "cell_type": "code",
   "execution_count": 4,
   "metadata": {},
   "outputs": [],
   "source": [
    "# loading models\n",
    "face_detection = load_detection_model(detection_model_path)\n",
    "emotion_classifier = load_model(emotion_model_path, compile=False)\n",
    "\n",
    "# getting input model shapes for inference\n",
    "emotion_target_size = emotion_classifier.input_shape[1:3]"
   ]
  },
  {
   "cell_type": "code",
   "execution_count": 5,
   "metadata": {},
   "outputs": [],
   "source": [
    "#another dataset accuracy\n"
   ]
  },
  {
   "cell_type": "code",
   "execution_count": 5,
   "metadata": {},
   "outputs": [],
   "source": [
    "new_faces=[]\n",
    "\n",
    "for file in os.listdir(image_path):\n",
    "    new_faces.append(cv2.imread(image_path+file,0))"
   ]
  },
  {
   "cell_type": "code",
   "execution_count": 6,
   "metadata": {},
   "outputs": [
    {
     "data": {
      "text/plain": [
       "196"
      ]
     },
     "execution_count": 6,
     "metadata": {},
     "output_type": "execute_result"
    }
   ],
   "source": [
    "len(new_faces)"
   ]
  },
  {
   "cell_type": "code",
   "execution_count": 13,
   "metadata": {},
   "outputs": [
    {
     "data": {
      "text/plain": [
       "<matplotlib.image.AxesImage at 0x7efe603a7f60>"
      ]
     },
     "execution_count": 13,
     "metadata": {},
     "output_type": "execute_result"
    },
    {
     "data": {
      "image/png": "[encoded data removed]",
      "text/plain": [
       "<Figure size 432x288 with 1 Axes>"
      ]
     },
     "metadata": {},
     "output_type": "display_data"
    }
   ],
   "source": [
    "plt.imshow(new_faces[])"
   ]
  },
  {
   "cell_type": "code",
   "execution_count": 7,
   "metadata": {},
   "outputs": [],
   "source": [
    "new_pred_emotions=[]\n",
    "for gray_image in new_faces:\n",
    "    #x1,x2,y1,y2 = 200, 450, 100, 380\n",
    "    #gray_image = gray_image[y1:y2, x1:x2]\n",
    "    gray_image = gray_image.reshape((48,48))\n",
    "    gray_image = cv2.resize(gray_image.astype('uint8'), emotion_target_size)\n",
    "    gray_image.astype('float32')\n",
    "    gray_image = np.squeeze(gray_image)\n",
    "    gray_image = preprocess_input(gray_image, True)\n",
    "    gray_image = np.expand_dims(gray_image, 0)\n",
    "    gray_image = np.expand_dims(gray_image, -1)\n",
    "    emotion_label_arg = np.argmax(emotion_classifier.predict(gray_image))\n",
    "    new_pred_emotions.append(emotion_label_arg)"
   ]
  },
  {
   "cell_type": "code",
   "execution_count": 8,
   "metadata": {},
   "outputs": [],
   "source": [
    "#new_pred_emotions"
   ]
  },
  {
   "cell_type": "code",
   "execution_count": 4,
   "metadata": {},
   "outputs": [],
   "source": [
    "new_dataset_labels=pd.read_csv('../../data/emotic_sixclasses_labels.csv',delimiter=',',header=None)"
   ]
  },
  {
   "cell_type": "code",
   "execution_count": 5,
   "metadata": {},
   "outputs": [],
   "source": [
    "new_dataset_labels = new_dataset_labels.as_matrix()"
   ]
  },
  {
   "cell_type": "code",
   "execution_count": 6,
   "metadata": {},
   "outputs": [],
   "source": [
    "new_dataset_labels = np.squeeze(new_dataset_labels)"
   ]
  },
  {
   "cell_type": "code",
   "execution_count": 7,
   "metadata": {},
   "outputs": [
    {
     "data": {
      "text/plain": [
       "196"
      ]
     },
     "execution_count": 7,
     "metadata": {},
     "output_type": "execute_result"
    }
   ],
   "source": [
    "len(new_dataset_labels)"
   ]
  },
  {
   "cell_type": "code",
   "execution_count": 8,
   "metadata": {},
   "outputs": [],
   "source": [
    "temp_true_labels=[]\n",
    "for x in new_dataset_labels:\n",
    "    if x =='Angry':\n",
    "        temp_true_labels.append(0)\n",
    "    elif x == 'Disgust':\n",
    "        temp_true_labels.append(1)\n",
    "    elif x == 'Fear':\n",
    "        temp_true_labels.append(2)\n",
    "    elif x == 'Happy':\n",
    "        temp_true_labels.append(3)\n",
    "    elif x == 'Sad':\n",
    "        temp_true_labels.append(4)\n",
    "    else:\n",
    "        temp_true_labels.append(5)\n"
   ]
  },
  {
   "cell_type": "code",
   "execution_count": 14,
   "metadata": {},
   "outputs": [
    {
     "data": {
      "image/png": "[encoded data removed]",
      "text/plain": [
       "<Figure size 432x288 with 1 Axes>"
      ]
     },
     "metadata": {},
     "output_type": "display_data"
    }
   ],
   "source": [
    "#temp_true_labels\n",
    "plt.hist(np.array(temp_true_labels))\n",
    "plt.show()"
   ]
  },
  {
   "cell_type": "code",
   "execution_count": 15,
   "metadata": {},
   "outputs": [],
   "source": [
    "new_acc = 0\n",
    "for index, i in enumerate(new_pred_emotions):\n",
    "    if i == temp_true_labels[index]:\n",
    "        new_acc = new_acc +1\n",
    "    else:\n",
    "        continue\n"
   ]
  },
  {
   "cell_type": "code",
   "execution_count": null,
   "metadata": {},
   "outputs": [],
   "source": []
  },
  {
   "cell_type": "code",
   "execution_count": 16,
   "metadata": {},
   "outputs": [],
   "source": [
    "new_acc /= len(new_faces)"
   ]
  },
  {
   "cell_type": "code",
   "execution_count": 17,
   "metadata": {},
   "outputs": [
    {
     "name": "stdout",
     "output_type": "stream",
     "text": [
      "0.4642857142857143\n"
     ]
    }
   ],
   "source": [
    "print(new_acc) "
   ]
  },
  {
   "cell_type": "code",
   "execution_count": 19,
   "metadata": {},
   "outputs": [],
   "source": [
    "# authors model to run the test and the acc is 22.95%\n",
    "# after change the rest emotions into 'neutral' the accuracy is 22.22%"
   ]
  },
  {
   "cell_type": "code",
   "execution_count": 18,
   "metadata": {},
   "outputs": [
    {
     "data": {
      "text/plain": [
       "[0, 0, 3, 3, 0, 0, 0, 0, 1, 3]"
      ]
     },
     "execution_count": 18,
     "metadata": {},
     "output_type": "execute_result"
    }
   ],
   "source": [
    "new_pred_emotions[:10]"
   ]
  },
  {
   "cell_type": "code",
   "execution_count": 19,
   "metadata": {},
   "outputs": [
    {
     "data": {
      "text/plain": [
       "[0, 5, 3, 4, 0, 4, 0, 3, 5, 3]"
      ]
     },
     "execution_count": 19,
     "metadata": {},
     "output_type": "execute_result"
    }
   ],
   "source": [
    "temp_true_labels[:10]"
   ]
  },
  {
   "cell_type": "code",
   "execution_count": 21,
   "metadata": {},
   "outputs": [],
   "source": [
    "#confusion matrix \n",
    "# x coordinate are predition emotion)\n",
    "# y coordiante is truth emotions\n",
    "confusion_matrix = np.zeros((6,6))\n",
    "for pred, truth in zip(new_pred_emotions, temp_true_labels):\n",
    "    confusion_matrix[truth, pred] += 1\n",
    "matrix = np.zeros_like(confusion_matrix)\n",
    "for index, i in enumerate(np.sum(confusion_matrix,axis=1)):\n",
    "    matrix[index,:] = confusion_matrix[index,:]/i\n"
   ]
  },
  {
   "cell_type": "code",
   "execution_count": 22,
   "metadata": {},
   "outputs": [
    {
     "data": {
      "text/plain": [
       "array([[0.71232877, 0.04109589, 0.02739726, 0.20547945, 0.01369863,\n",
       "        0.        ],\n",
       "       [0.27272727, 0.22727273, 0.        , 0.31818182, 0.18181818,\n",
       "        0.        ],\n",
       "       [0.7       , 0.1       , 0.        , 0.2       , 0.        ,\n",
       "        0.        ],\n",
       "       [0.37209302, 0.        , 0.        , 0.60465116, 0.02325581,\n",
       "        0.        ],\n",
       "       [0.36363636, 0.        , 0.        , 0.39393939, 0.24242424,\n",
       "        0.        ],\n",
       "       [0.26666667, 0.06666667, 0.        , 0.53333333, 0.13333333,\n",
       "        0.        ]])"
      ]
     },
     "execution_count": 22,
     "metadata": {},
     "output_type": "execute_result"
    }
   ],
   "source": [
    "matrix"
   ]
  },
  {
   "cell_type": "code",
   "execution_count": null,
   "metadata": {},
   "outputs": [],
   "source": []
  }
 ],
 "metadata": {
  "kernelspec": {
   "display_name": "Python 3",
   "language": "python",
   "name": "python3"
  },
  "language_info": {
   "codemirror_mode": {
    "name": "ipython",
    "version": 3
   },
   "file_extension": ".py",
   "mimetype": "text/x-python",
   "name": "python",
   "nbconvert_exporter": "python",
   "pygments_lexer": "ipython3",
   "version": "3.5.2"
  }
 },
 "nbformat": 4,
 "nbformat_minor": 2
}
