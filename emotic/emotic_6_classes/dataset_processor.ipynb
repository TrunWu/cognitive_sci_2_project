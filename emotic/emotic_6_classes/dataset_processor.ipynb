{
 "cells": [
  {
   "cell_type": "code",
   "execution_count": 1,
   "metadata": {},
   "outputs": [],
   "source": [
    "#train the model based on 6 classes images"
   ]
  },
  {
   "cell_type": "code",
   "execution_count": 2,
   "metadata": {},
   "outputs": [],
   "source": [
    "import pandas as pd\n",
    "import cv2\n",
    "from cv2 import imread\n",
    "import numpy as np\n",
    "import os\n",
    "import matplotlib.pyplot as plt"
   ]
  },
  {
   "cell_type": "code",
   "execution_count": 3,
   "metadata": {},
   "outputs": [],
   "source": [
    "import scipy.io\n",
    "import itertools\n",
    "import shutil\n",
    "import csv"
   ]
  },
  {
   "cell_type": "code",
   "execution_count": 4,
   "metadata": {},
   "outputs": [],
   "source": [
    "dataset_pat = '../../data/TestImgs_48/'\n",
    "ann = scipy.io.loadmat('../../data/Annotations.mat')"
   ]
  },
  {
   "cell_type": "code",
   "execution_count": 5,
   "metadata": {},
   "outputs": [],
   "source": [
    "annt = np.transpose(ann['test'])\n",
    "ann_train = np.transpose(ann['train'])\n",
    "ann_val = np.transpose(ann['val'])"
   ]
  },
  {
   "cell_type": "code",
   "execution_count": 6,
   "metadata": {},
   "outputs": [],
   "source": [
    "emodb_small = []"
   ]
  },
  {
   "cell_type": "code",
   "execution_count": 7,
   "metadata": {},
   "outputs": [],
   "source": [
    "for dataset in [annt, ann_train, ann_val]:\n",
    "    for elem in dataset:\n",
    "        e = elem[0]\n",
    "        if e[1]=='emodb_small/images':\n",
    "            emodb_small.append(e)"
   ]
  },
  {
   "cell_type": "code",
   "execution_count": 8,
   "metadata": {},
   "outputs": [
    {
     "data": {
      "text/plain": [
       "1374"
      ]
     },
     "execution_count": 8,
     "metadata": {},
     "output_type": "execute_result"
    }
   ],
   "source": [
    "len(emodb_small)"
   ]
  },
  {
   "cell_type": "code",
   "execution_count": 9,
   "metadata": {},
   "outputs": [
    {
     "data": {
      "text/plain": [
       "256"
      ]
     },
     "execution_count": 9,
     "metadata": {},
     "output_type": "execute_result"
    }
   ],
   "source": [
    "names = os.listdir('../../data/TestImgs_48/')\n",
    "len(names)"
   ]
  },
  {
   "cell_type": "code",
   "execution_count": 10,
   "metadata": {},
   "outputs": [],
   "source": [
    "imgs48 = []\n",
    "for elem in emodb_small:\n",
    "    if elem[0][0] in names:\n",
    "        imgs48.append(elem)"
   ]
  },
  {
   "cell_type": "code",
   "execution_count": 11,
   "metadata": {},
   "outputs": [
    {
     "data": {
      "text/plain": [
       "256"
      ]
     },
     "execution_count": 11,
     "metadata": {},
     "output_type": "execute_result"
    }
   ],
   "source": [
    "len(imgs48)"
   ]
  },
  {
   "cell_type": "code",
   "execution_count": 12,
   "metadata": {},
   "outputs": [],
   "source": [
    "emotions=[]"
   ]
  },
  {
   "cell_type": "code",
   "execution_count": 13,
   "metadata": {},
   "outputs": [],
   "source": [
    "for elem in imgs48:\n",
    "    #print(elem[0][0])\n",
    "    e = elem[4].tolist()\n",
    "    e1 = e[0]\n",
    "    for item in e1:\n",
    "        li = item[1].tolist()\n",
    "        l2 = li[0]\n",
    "        emotions_item = []\n",
    "        for thing in l2:\n",
    "            for t in thing:\n",
    "                t1 = t.tolist()\n",
    "                t2 = t1[0]\n",
    "                arr = np.vstack(t2).tolist()\n",
    "                arr2 = list(itertools.chain.from_iterable(arr))\n",
    "                emotions_item.append(arr2)\n",
    "    labels = list(itertools.chain.from_iterable(emotions_item))\n",
    "    emotions.append([elem[0], labels])\n",
    "\n",
    "emotions = np.array(emotions)"
   ]
  },
  {
   "cell_type": "code",
   "execution_count": 14,
   "metadata": {},
   "outputs": [],
   "source": [
    "unique_emo = []"
   ]
  },
  {
   "cell_type": "code",
   "execution_count": 15,
   "metadata": {},
   "outputs": [],
   "source": [
    "for temp in emotions:\n",
    "    if len(unique_emo)!=0:\n",
    "        for emotion in temp[1]:\n",
    "            if emotion in unique_emo:\n",
    "                continue\n",
    "            else:\n",
    "                unique_emo.append(emotion)\n",
    "    else:\n",
    "        unique_emo.append(emotion for emotion in temp[1])"
   ]
  },
  {
   "cell_type": "code",
   "execution_count": 16,
   "metadata": {},
   "outputs": [
    {
     "data": {
      "text/plain": [
       "[<generator object <genexpr> at 0x7fa37161afc0>,\n",
       " 'Anticipation',\n",
       " 'Confidence',\n",
       " 'Engagement',\n",
       " 'Disapproval',\n",
       " 'Doubt/Confusion',\n",
       " 'Surprise',\n",
       " 'Annoyance',\n",
       " 'Excitement',\n",
       " 'Pleasure',\n",
       " 'Happiness',\n",
       " 'Affection',\n",
       " 'Sympathy',\n",
       " 'Suffering',\n",
       " 'Sadness',\n",
       " 'Sensitivity',\n",
       " 'Pain',\n",
       " 'Fear',\n",
       " 'Aversion',\n",
       " 'Anger',\n",
       " 'Disconnection',\n",
       " 'Disquietment',\n",
       " 'Peace',\n",
       " 'Esteem',\n",
       " 'Fatigue',\n",
       " 'Yearning',\n",
       " 'Embarrassment']"
      ]
     },
     "execution_count": 16,
     "metadata": {},
     "output_type": "execute_result"
    }
   ],
   "source": [
    "unique_emo"
   ]
  },
  {
   "cell_type": "code",
   "execution_count": 18,
   "metadata": {},
   "outputs": [],
   "source": [
    "train_classes = ['Angry', 'Disgust', 'Fear', 'Happy', 'Sad', 'Surprise'] \n",
    "converted_classes = ['Anger', 'Aversion', 'Fear', 'Happiness','Sadness','Surprise']"
   ]
  },
  {
   "cell_type": "code",
   "execution_count": 19,
   "metadata": {},
   "outputs": [],
   "source": [
    "def convert(emotion):\n",
    "    for index,label in enumerate(converted_classes):\n",
    "        if emotion == label:\n",
    "            return train_classes[index]"
   ]
  },
  {
   "cell_type": "code",
   "execution_count": 17,
   "metadata": {},
   "outputs": [],
   "source": [
    "update_emotions = []\n",
    "update_imgs = []"
   ]
  },
  {
   "cell_type": "code",
   "execution_count": 20,
   "metadata": {},
   "outputs": [],
   "source": [
    "for emo in emotions:\n",
    "    for index, emotion in enumerate(emo[1]):         \n",
    "        if emotion in converted_classes:\n",
    "            update_emotions.append(convert(emotion))\n",
    "            update_imgs.append(emo[0][0])\n",
    "            break\n",
    "        else:\n",
    "            continue"
   ]
  },
  {
   "cell_type": "code",
   "execution_count": 22,
   "metadata": {},
   "outputs": [
    {
     "data": {
      "text/plain": [
       "(196, 196)"
      ]
     },
     "execution_count": 22,
     "metadata": {},
     "output_type": "execute_result"
    }
   ],
   "source": [
    "len(update_imgs), len(update_emotions)"
   ]
  },
  {
   "cell_type": "code",
   "execution_count": 25,
   "metadata": {},
   "outputs": [],
   "source": [
    "#update_imgs"
   ]
  },
  {
   "cell_type": "code",
   "execution_count": 26,
   "metadata": {},
   "outputs": [],
   "source": [
    "dst = '../../data/emoticImgs_six_classes/'\n",
    "src = '../../data/TestImgs_48/'"
   ]
  },
  {
   "cell_type": "code",
   "execution_count": 28,
   "metadata": {},
   "outputs": [],
   "source": [
    "for f in os.listdir(src):\n",
    "    if f in update_imgs:\n",
    "        try:\n",
    "            shutil.copy2(src+f, dst+f)\n",
    "        except:\n",
    "            raise('IOException Error')"
   ]
  },
  {
   "cell_type": "code",
   "execution_count": 30,
   "metadata": {},
   "outputs": [],
   "source": [
    "with open('../../data/emoticImgs_six_classes/emotic_sixclasses_labels.csv','w') as l:\n",
    "    wr = csv.writer(l, dialect = 'excel')\n",
    "    wr.writerow(update_emotions)"
   ]
  },
  {
   "cell_type": "code",
   "execution_count": 31,
   "metadata": {},
   "outputs": [],
   "source": [
    "pd_labels = pd.read_csv('../../data/emoticImgs_six_classes/emotic_sixclasses_labels.csv',delimiter=',',header=None)"
   ]
  },
  {
   "cell_type": "code",
   "execution_count": 32,
   "metadata": {},
   "outputs": [
    {
     "data": {
      "text/html": [
       "<div>\n",
       "<style scoped>\n",
       "    .dataframe tbody tr th:only-of-type {\n",
       "        vertical-align: middle;\n",
       "    }\n",
       "\n",
       "    .dataframe tbody tr th {\n",
       "        vertical-align: top;\n",
       "    }\n",
       "\n",
       "    .dataframe thead th {\n",
       "        text-align: right;\n",
       "    }\n",
       "</style>\n",
       "<table border=\"1\" class=\"dataframe\">\n",
       "  <thead>\n",
       "    <tr style=\"text-align: right;\">\n",
       "      <th></th>\n",
       "      <th>0</th>\n",
       "      <th>1</th>\n",
       "      <th>2</th>\n",
       "      <th>3</th>\n",
       "      <th>4</th>\n",
       "      <th>5</th>\n",
       "      <th>6</th>\n",
       "      <th>7</th>\n",
       "      <th>8</th>\n",
       "      <th>9</th>\n",
       "      <th>...</th>\n",
       "      <th>186</th>\n",
       "      <th>187</th>\n",
       "      <th>188</th>\n",
       "      <th>189</th>\n",
       "      <th>190</th>\n",
       "      <th>191</th>\n",
       "      <th>192</th>\n",
       "      <th>193</th>\n",
       "      <th>194</th>\n",
       "      <th>195</th>\n",
       "    </tr>\n",
       "  </thead>\n",
       "  <tbody>\n",
       "    <tr>\n",
       "      <th>0</th>\n",
       "      <td>Angry</td>\n",
       "      <td>Surprise</td>\n",
       "      <td>Happy</td>\n",
       "      <td>Sad</td>\n",
       "      <td>Angry</td>\n",
       "      <td>Sad</td>\n",
       "      <td>Angry</td>\n",
       "      <td>Happy</td>\n",
       "      <td>Surprise</td>\n",
       "      <td>Happy</td>\n",
       "      <td>...</td>\n",
       "      <td>Angry</td>\n",
       "      <td>Happy</td>\n",
       "      <td>Angry</td>\n",
       "      <td>Surprise</td>\n",
       "      <td>Angry</td>\n",
       "      <td>Happy</td>\n",
       "      <td>Happy</td>\n",
       "      <td>Sad</td>\n",
       "      <td>Angry</td>\n",
       "      <td>Sad</td>\n",
       "    </tr>\n",
       "  </tbody>\n",
       "</table>\n",
       "<p>1 rows × 196 columns</p>\n",
       "</div>"
      ],
      "text/plain": [
       "     0         1      2    3      4    5      6      7         8      9    \\\n",
       "0  Angry  Surprise  Happy  Sad  Angry  Sad  Angry  Happy  Surprise  Happy   \n",
       "\n",
       "  ...     186    187    188       189    190    191    192  193    194  195  \n",
       "0 ...   Angry  Happy  Angry  Surprise  Angry  Happy  Happy  Sad  Angry  Sad  \n",
       "\n",
       "[1 rows x 196 columns]"
      ]
     },
     "execution_count": 32,
     "metadata": {},
     "output_type": "execute_result"
    }
   ],
   "source": [
    "pd_labels"
   ]
  },
  {
   "cell_type": "code",
   "execution_count": null,
   "metadata": {},
   "outputs": [],
   "source": []
  }
 ],
 "metadata": {
  "kernelspec": {
   "display_name": "Python 3",
   "language": "python",
   "name": "python3"
  },
  "language_info": {
   "codemirror_mode": {
    "name": "ipython",
    "version": 3
   },
   "file_extension": ".py",
   "mimetype": "text/x-python",
   "name": "python",
   "nbconvert_exporter": "python",
   "pygments_lexer": "ipython3",
   "version": "3.5.2"
  }
 },
 "nbformat": 4,
 "nbformat_minor": 2
}
